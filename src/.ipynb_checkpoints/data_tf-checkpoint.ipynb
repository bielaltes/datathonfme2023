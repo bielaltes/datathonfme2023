{
 "cells": [
  {
   "cell_type": "code",
   "execution_count": 2,
   "id": "40d55620-ec85-43af-aa6c-35a819e6f049",
   "metadata": {},
   "outputs": [],
   "source": [
    "import pandas as pd\n",
    "from tensorflow.keras.preprocessing import image\n",
    "from tensorflow.keras.applications.vgg16 import preprocess_input\n",
    "import numpy as np\n",
    "from tensorflow.keras.applications import MobileNet\n",
    "from tensorflow.keras.models import Model\n",
    "from tensorflow.keras.layers import GlobalAveragePooling2D"
   ]
  },
  {
   "cell_type": "code",
   "execution_count": 4,
   "id": "719ef500-0825-475c-8d13-2a9c4ff09747",
   "metadata": {},
   "outputs": [
    {
     "name": "stdout",
     "output_type": "stream",
     "text": [
      "WARNING:tensorflow:`input_shape` is undefined or non-square, or `rows` is not in [128, 160, 192, 224]. Weights for input shape (224, 224) will be loaded as the default.\n"
     ]
    }
   ],
   "source": [
    "\n",
    "\n",
    "base_model = MobileNet(weights='imagenet', include_top=False, input_shape=(239, 239, 3))\n",
    "\n",
    "x = GlobalAveragePooling2D()(base_model.output)\n",
    "model = Model(inputs=base_model.input, outputs=x)"
   ]
  },
  {
   "cell_type": "code",
   "execution_count": null,
   "id": "5afd82f7-1b20-45dd-8065-37ef559da063",
   "metadata": {},
   "outputs": [],
   "source": [
    "\n",
    "\n",
    "csv_file_path = 'relations_full_links.csv'\n",
    "df = pd.read_csv(csv_file_path)\n",
    "\n",
    "new_columns = ['color1', 'fabric1', 'category1', 'embedding1', 'color2', 'fabric2', 'category2', 'embedding2']\n",
    "df_new = pd.DataFrame(columns=new_columns)\n",
    "\n",
    "i = 0\n",
    "for index, row in df.iterrows():\n",
    "    try:\n",
    "        img_path = '../datathon/images/' + row['image1']\n",
    "        img = image.load_img(img_path, target_size=(239, 239))\n",
    "        img_array = image.img_to_array(img)\n",
    "        img_array = preprocess_input(img_array)\n",
    "        img_array = np.expand_dims(img_array, axis=0)\n",
    "        output1 = model.predict(img_array)\n",
    "\n",
    "        img_path = '../datathon/images/' + row['image2']\n",
    "        img = image.load_img(img_path, target_size=(239, 239))\n",
    "        img_array = image.img_to_array(img)\n",
    "        img_array = preprocess_input(img_array)\n",
    "        img_array = np.expand_dims(img_array, axis=0)\n",
    "        output2 = model.predict(img_array)\n",
    "    except:\n",
    "        continue\n",
    "    new_row = {\n",
    "        'color1': row['color1'],  # Modify or use values from the original row\n",
    "        'fabric1':  row['fabric1'],  # Assign a custom value\n",
    "        'category1': row['category1'],\n",
    "        'embedding1': output1,\n",
    "        'color2': row['color2'],  # Modify or use values from the original row\n",
    "        'fabric2':  row['fabric2'],  # Assign a custom value\n",
    "        'category2': row['category2'],\n",
    "        'embedding2': output2,\n",
    "        #'image': embeeding(row['des_filename'])  # Assign a custom value \n",
    "    }\n",
    "    df_new = pd.concat([df_new, pd.DataFrame([new_row])], ignore_index=True)\n",
    "    \n",
    "    i += 1\n",
    "    if i %20 == 0:\n",
    "        print(i)\n",
    "\n",
    "print(\"New DataFrame with user-defined columns:\")\n",
    "print(df_new.head())"
   ]
  },
  {
   "cell_type": "code",
   "execution_count": null,
   "id": "9e0ad1c3-1b06-4700-b242-60b391f8fdbc",
   "metadata": {},
   "outputs": [],
   "source": [
    "from sklearn.model_selection import train_test_split\n",
    "\n",
    "X = df_new.iloc[:, :8]\n",
    "\n",
    "y = df_new.iloc[:, 8]\n",
    "\n",
    "X_train, X_test, y_train, y_test = train_test_split(X, y, test_size=0.2, random_state=42)"
   ]
  }
 ],
 "metadata": {
  "kernelspec": {
   "display_name": "Python 3 (ipykernel)",
   "language": "python",
   "name": "python3"
  },
  "language_info": {
   "codemirror_mode": {
    "name": "ipython",
    "version": 3
   },
   "file_extension": ".py",
   "mimetype": "text/x-python",
   "name": "python",
   "nbconvert_exporter": "python",
   "pygments_lexer": "ipython3",
   "version": "3.9.18"
  }
 },
 "nbformat": 4,
 "nbformat_minor": 5
}

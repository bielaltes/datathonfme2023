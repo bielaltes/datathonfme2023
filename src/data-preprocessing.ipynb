{
 "cells": [
  {
   "cell_type": "code",
   "execution_count": 1,
   "id": "5e0d2ae0-ea06-45a0-8502-1a7a3c7d90b0",
   "metadata": {},
   "outputs": [],
   "source": [
    "import pandas as pd"
   ]
  },
  {
   "cell_type": "code",
   "execution_count": 12,
   "id": "2de594f0-d35b-4ba1-a2a2-02366455cabd",
   "metadata": {},
   "outputs": [
    {
     "name": "stdout",
     "output_type": "stream",
     "text": [
      "Number of unique elements in 'des_product_family': 39\n",
      "Unique elements and their counts in 'des_product_family':\n",
      "des_product_family\n",
      "Dresses                     1189\n",
      "Shirt                        679\n",
      "Sweater                      662\n",
      "T-shirt                      629\n",
      "Trousers                     614\n",
      "Bags                         602\n",
      "Jewellery                    592\n",
      "Tops                         544\n",
      "Footwear                     494\n",
      "Skirts                       476\n",
      "Jeans                        344\n",
      "Hats, scarves and gloves     272\n",
      "Jackets                      210\n",
      "Jumpsuit                     185\n",
      "Wallets & cases              183\n",
      "Coats                        171\n",
      "Cardigans                    162\n",
      "Belts and Ties               160\n",
      "Shorts                       156\n",
      "Blazers                      147\n",
      "Glasses                      139\n",
      "Intimate                     135\n",
      "Puffer coats                  73\n",
      "Sweatshirts                   56\n",
      "Swimwear                      45\n",
      "Vest                          44\n",
      "Trenchcoats                   42\n",
      "Leggings and joggers          41\n",
      "Fragances                     30\n",
      "Bodysuits                     28\n",
      "Gadgets                       22\n",
      "Leather jackets               17\n",
      "Deco Textiles                 17\n",
      "Bedding                       17\n",
      "Outer Vest                    13\n",
      "Deco Accessories              12\n",
      "Poloshirts                     8\n",
      "Parkas                         8\n",
      "Glassware                      4\n",
      "Name: count, dtype: int64\n"
     ]
    }
   ],
   "source": [
    "# Step 1: Load the CSV file into a DataFrame\n",
    "csv_file_path = '../data/product_data.csv'  # Replace with the path to your CSV file\n",
    "df = pd.read_csv(csv_file_path)\n",
    "\n",
    "# Step 2: Specify the column for which you want to find unique elements\n",
    "column_name = 'des_product_family'  # Replace with the actual column name\n",
    "\n",
    "# Step 3: Get unique elements in the specified column\n",
    "unique_elements_counts = df[column_name].value_counts()\n",
    "\n",
    "# Step 4: Get the count of unique elements\n",
    "num_unique_elements = len(unique_elements_counts)\n",
    "\n",
    "# Step 5: Print the results\n",
    "print(f\"Number of unique elements in '{column_name}': {num_unique_elements}\")\n",
    "print(f\"Unique elements and their counts in '{column_name}':\\n{unique_elements_counts}\")"
   ]
  }
 ],
 "metadata": {
  "kernelspec": {
   "display_name": "Python 3 (ipykernel)",
   "language": "python",
   "name": "python3"
  },
  "language_info": {
   "codemirror_mode": {
    "name": "ipython",
    "version": 3
   },
   "file_extension": ".py",
   "mimetype": "text/x-python",
   "name": "python",
   "nbconvert_exporter": "python",
   "pygments_lexer": "ipython3",
   "version": "3.9.18"
  }
 },
 "nbformat": 4,
 "nbformat_minor": 5
}

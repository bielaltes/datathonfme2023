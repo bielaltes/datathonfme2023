{
 "cells": [
  {
   "cell_type": "code",
   "execution_count": null,
   "id": "40d55620-ec85-43af-aa6c-35a819e6f049",
   "metadata": {},
   "outputs": [],
   "source": [
    "import pandas as pd\n",
    "from tensorflow.keras.preprocessing import image\n",
    "from tensorflow.keras.applications.vgg16 import preprocess_input\n",
    "import numpy as np\n",
    "from tensorflow.keras.applications import MobileNet\n",
    "from tensorflow.keras.models import Model\n",
    "from tensorflow.keras.layers import GlobalAveragePooling2D\n",
    "import tensorflow as tf"
   ]
  },
  {
   "cell_type": "code",
   "execution_count": null,
   "id": "a8032255-604f-48f8-8bed-43967b2a4086",
   "metadata": {},
   "outputs": [],
   "source": [
    "import tensorflow as tf\n",
    "from tensorflow.keras.layers import Input, Conv2D, MaxPooling2D, Flatten, Dense, Concatenate\n",
    "\n",
    "# Define input layers\n",
    "image_input1 = Input(shape=(140, 100, 3))\n",
    "image_input2 = Input(shape=(140, 100, 3))\n",
    "other_input = Input(shape=(6,))\n",
    "\n",
    "# CNN branch for image processing\n",
    "conv1 = Conv2D(32, (3, 3), activation='relu')(image_input1)\n",
    "pool1 = MaxPooling2D((2, 2))(conv1)\n",
    "conv2 = Conv2D(64, (3, 3), activation='relu')(pool1)\n",
    "pool2 = MaxPooling2D((2, 2))(conv2)\n",
    "conv3 = Conv2D(128, (3, 3), activation='relu')(pool2)\n",
    "pool3 = MaxPooling2D((2, 2))(conv3)\n",
    "flatten1 = Flatten()(pool3)\n",
    "\n",
    "\n",
    "conv4 = Conv2D(32, (3, 3), activation='relu')(image_input2)\n",
    "pool4 = MaxPooling2D((2, 2))(conv4)\n",
    "conv5 = Conv2D(64, (3, 3), activation='relu')(pool4)\n",
    "pool5 = MaxPooling2D((2, 2))(conv5)\n",
    "conv6 = Conv2D(128, (3, 3), activation='relu')(pool5)\n",
    "pool6 = MaxPooling2D((2, 2))(conv6)\n",
    "flatten2 = Flatten()(pool6)\n",
    "# Concatenate the flattened outputs from the CNN branches\n",
    "merged_cnn_outputs = Concatenate()([flatten1, flatten2])\n",
    "\n",
    "# Concatenate the output of the MLP branch with the concatenated CNN outputs\n",
    "merged_outputs = Concatenate()([merged_cnn_outputs, other_input])\n",
    "\n",
    "# MLP branch for processing additional inputs\n",
    "mlp_output = Dense(64, activation='relu')(merged_outputs)\n",
    "mlp_output = Dense(128, activation='relu')(mlp_output)\n",
    "mlp_output = Dense(128, activation='relu')(mlp_output)\n",
    "mlp_output = Dense(64, activation='relu')(mlp_output)\n",
    "mlp_output = Dense(32, activation='relu')(mlp_output)\n",
    "\n",
    "# Final output layer\n",
    "final_output = Dense(1, activation='sigmoid')(mlp_output)\n",
    "\n",
    "# Create the model\n",
    "model = tf.keras.Model(inputs=[image_input1, image_input2, other_input], outputs=final_output)\n",
    "\n",
    "# Compile the model\n",
    "model.compile(optimizer='adam', loss='binary_crossentropy', metrics=['accuracy'])\n",
    "\n",
    "# Print model summary\n",
    "model.summary()"
   ]
  },
  {
   "cell_type": "code",
   "execution_count": null,
   "id": "5afd82f7-1b20-45dd-8065-37ef559da063",
   "metadata": {},
   "outputs": [],
   "source": [
    "from PIL import Image\n",
    "import numpy as np\n",
    "\n",
    "csv_file_path = 'relations_full_links_shuffled.csv'\n",
    "df = pd.read_csv(csv_file_path)\n",
    "\n",
    "new_columns = ['color1', 'fabric1', 'category1', 'embedding1', 'color2', 'fabric2', 'category2', 'embedding2', 'result']\n",
    "df_new = pd.DataFrame(columns=new_columns)\n",
    "\n",
    "df_subset = df.iloc[21000:26000]\n",
    "i = 0\n",
    "for index, row in df_subset.iterrows():\n",
    "    try:\n",
    "        img_path = '../datathon/images/' + row['image1']\n",
    "        img = Image.open(img_path)\n",
    "        img = img.resize((100, 140))\n",
    "        img_array1 = np.array(img) / 255.0\n",
    "        #output1 = model.predict(img_array1)\n",
    "    \n",
    "        img_path = '../datathon/images/' + row['image2']\n",
    "        img = Image.open(img_path)\n",
    "        img = img.resize((100, 140))\n",
    "        img_array2 = np.array(img) / 255.0\n",
    "    except:\n",
    "        continue\n",
    "    new_row = {\n",
    "        'color1': row['color1'], \n",
    "        'fabric1':  row['fabric1'],  \n",
    "        'category1': row['category1'],\n",
    "        'embedding1': img_array1,\n",
    "        'color2': row['color2'], \n",
    "        'fabric2':  row['fabric2'],  \n",
    "        'category2': row['category2'],\n",
    "        'embedding2': img_array2,\n",
    "        'result': row['result']\n",
    "        #'image': embeeding(row['des_filename'])  # Assign a custom value \n",
    "    }\n",
    "    df_new = pd.concat([df_new, pd.DataFrame([new_row])], ignore_index=True)\n",
    "    \n",
    "    i += 1\n",
    "    if i %100 == 0:\n",
    "        print(i)\n",
    "\n",
    "print(\"New DataFrame with user-defined columns:\")\n",
    "print(df_new.head())"
   ]
  },
  {
   "cell_type": "code",
   "execution_count": null,
   "id": "9e0ad1c3-1b06-4700-b242-60b391f8fdbc",
   "metadata": {},
   "outputs": [],
   "source": [
    "import pandas as pd\n",
    "import numpy as np\n",
    "from sklearn.model_selection import train_test_split\n",
    "from sklearn.preprocessing import StandardScaler\n",
    "\n",
    "numerical_features = df_new.iloc[:, [0, 1, 2, 4, 5, 6]]\n",
    "\n",
    "images1 = np.array(df_new['embedding1'].tolist())\n",
    "images2 = np.array(df_new['embedding2'].tolist())\n",
    "\n",
    "numerical_features = np.asarray(numerical_features).astype(np.float32)\n",
    "\n",
    "# Extract labels\n",
    "labels = df_new.iloc[:, 8]\n",
    "labels = np.asarray(labels).astype(np.float32)\n",
    "\n",
    "print(images2.shape)"
   ]
  },
  {
   "cell_type": "code",
   "execution_count": null,
   "id": "24011334-b8cd-452d-8d8d-ce53f097d61e",
   "metadata": {},
   "outputs": [],
   "source": [
    "from sklearn.model_selection import train_test_split\n",
    "\n",
    "images1_train, images1_test, images2_train, images2_test, other_inputs_train, other_inputs_test, target_train, target_test = train_test_split(\n",
    "    images1, images2, numerical_features, labels, test_size=0.05, random_state=42\n",
    ")\n",
    "print(images2_train.shape)\n"
   ]
  },
  {
   "cell_type": "code",
   "execution_count": null,
   "id": "855be9eb-3391-4776-8e5c-eec013e88e6e",
   "metadata": {},
   "outputs": [],
   "source": [
    "##CONTINUE TRAINING\n",
    "model = tf.keras.models.load_model('9')"
   ]
  },
  {
   "cell_type": "code",
   "execution_count": null,
   "id": "4847e9a9-8b12-4d34-af2c-d2d0e238d3c1",
   "metadata": {},
   "outputs": [],
   "source": [
    "model.fit(\n",
    "    [images1_train, images2_train, other_inputs_train],\n",
    "    target_train,\n",
    "    epochs=2,\n",
    ")"
   ]
  },
  {
   "cell_type": "code",
   "execution_count": null,
   "id": "94fa6286-4138-41b1-a97e-025b3245dcc7",
   "metadata": {},
   "outputs": [],
   "source": [
    "# Evaluate the model.\n",
    "loss, accuracy = model.evaluate([images1_test, images2_test, other_inputs_test], target_test)\n",
    "\n",
    "# Print the accuracy of the model.\n",
    "print('Accuracy:', accuracy)"
   ]
  },
  {
   "cell_type": "code",
   "execution_count": null,
   "id": "8a599b8e-041e-4673-bb4d-c4257d08b33b",
   "metadata": {},
   "outputs": [],
   "source": [
    "model.save('10')"
   ]
  }
 ],
 "metadata": {
  "kernelspec": {
   "display_name": "Python 3 (ipykernel)",
   "language": "python",
   "name": "python3"
  },
  "language_info": {
   "codemirror_mode": {
    "name": "ipython",
    "version": 3
   },
   "file_extension": ".py",
   "mimetype": "text/x-python",
   "name": "python",
   "nbconvert_exporter": "python",
   "pygments_lexer": "ipython3",
   "version": "3.9.18"
  }
 },
 "nbformat": 4,
 "nbformat_minor": 5
}
